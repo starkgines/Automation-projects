{
 "cells": [
  {
   "cell_type": "code",
   "execution_count": 35,
   "metadata": {
    "collapsed": true
   },
   "outputs": [],
   "source": [
    "import os\n",
    "import shutil"
   ]
  },
  {
   "cell_type": "code",
   "execution_count": null,
   "outputs": [],
   "source": [
    "download_path ='D:\\Descargas'"
   ],
   "metadata": {
    "collapsed": false
   }
  },
  {
   "cell_type": "code",
   "execution_count": 36,
   "outputs": [],
   "source": [
    "def get_extensions(path):\n",
    "    extensions = set()\n",
    "    for filename in os.listdir(path):\n",
    "        _,extension_in_file = os.path.splitext(filename)\n",
    "        extensions.add(extension_in_file)\n",
    "    return list(extensions)\n",
    "\n",
    "def is_not_blank(string_check):\n",
    "    #return False if the string is Empty\n",
    "    return bool(string_check and not string_check.isspace())\n",
    "\n",
    "def create_folders(extensions):\n",
    "    for name_of_folders in extensions:\n",
    "        if is_not_blank(name_of_folders):\n",
    "            new_folder_path = os.path.join(download_path,name_of_folders.replace('.',''))\n",
    "            os.makedirs(new_folder_path, exist_ok=True)\n",
    "\n",
    "def have_extension(string):\n",
    "    #return true if the file have an extension\n",
    "    _,extension_in_file = os.path.splitext(string)\n",
    "    return is_not_blank(extension_in_file)\n",
    "\n",
    "def extract_files_in_folder(folder_path):\n",
    "    file_w_extension = []\n",
    "    for filename in os.listdir(download_path):\n",
    "        if have_extension(filename):\n",
    "            file_w_extension.append(filename)\n",
    "    return file_w_extension\n",
    "\n",
    "def move_file(file_w_extension,extensions_in_download):\n",
    "    for file_to_move in file_w_extension:\n",
    "        _, extension = os.path.splitext(file_to_move)\n",
    "        src_file = os.path.join(download_path,file_to_move)\n",
    "        if extension in extensions_in_download:\n",
    "            dest_file = os.path.join(download_path,extension[1:],file_to_move)\n",
    "            shutil.move(src_file, dest_file)\n",
    "            print(f\"{src_file} Moved to {dest_file}\")\n"
   ],
   "metadata": {
    "collapsed": false
   }
  },
  {
   "cell_type": "code",
   "execution_count": 37,
   "outputs": [
    {
     "name": "stdout",
     "output_type": "stream",
     "text": [
      "D:\\Descargas\\Carlos Silva.jpeg Moved to D:\\Descargas\\jpeg\\Carlos Silva.jpeg\n",
      "D:\\Descargas\\Procedimiento para solicitar acceso al Portal Gubernamental de Datos Abiertos.pdf Moved to D:\\Descargas\\pdf\\Procedimiento para solicitar acceso al Portal Gubernamental de Datos Abiertos.pdf\n",
      "D:\\Descargas\\SF2FixOnly.rar Moved to D:\\Descargas\\rar\\SF2FixOnly.rar\n",
      "D:\\Descargas\\Sons.Of.The.Forest.Early.Access.torrent Moved to D:\\Descargas\\torrent\\Sons.Of.The.Forest.Early.Access.torrent\n",
      "D:\\Descargas\\staggin_h_redaccion.csv Moved to D:\\Descargas\\csv\\staggin_h_redaccion.csv\n",
      "D:\\Descargas\\step2_redacciones_procesada.csv Moved to D:\\Descargas\\csv\\step2_redacciones_procesada.csv\n"
     ]
    }
   ],
   "source": [
    "extensions_in_download = get_extensions(download_path)\n",
    "create_folders(extensions_in_download)\n",
    "files_in_folder = extract_files_in_folder(download_path)\n",
    "\n",
    "move_file(files_in_folder,extensions_in_download)\n"
   ],
   "metadata": {
    "collapsed": false
   }
  },
  {
   "cell_type": "code",
   "execution_count": null,
   "outputs": [],
   "source": [],
   "metadata": {
    "collapsed": false
   }
  }
 ],
 "metadata": {
  "kernelspec": {
   "display_name": "Python 3",
   "language": "python",
   "name": "python3"
  },
  "language_info": {
   "codemirror_mode": {
    "name": "ipython",
    "version": 2
   },
   "file_extension": ".py",
   "mimetype": "text/x-python",
   "name": "python",
   "nbconvert_exporter": "python",
   "pygments_lexer": "ipython2",
   "version": "2.7.6"
  }
 },
 "nbformat": 4,
 "nbformat_minor": 0
}
